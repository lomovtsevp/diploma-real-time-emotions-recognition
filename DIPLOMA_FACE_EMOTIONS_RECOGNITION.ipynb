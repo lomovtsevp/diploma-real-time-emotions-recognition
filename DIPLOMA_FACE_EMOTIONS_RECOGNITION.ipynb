{
  "metadata": {
    "kernelspec": {
      "language": "python",
      "display_name": "Python 3",
      "name": "python3"
    },
    "language_info": {
      "pygments_lexer": "ipython3",
      "nbconvert_exporter": "python",
      "version": "3.6.4",
      "file_extension": ".py",
      "codemirror_mode": {
        "name": "ipython",
        "version": 3
      },
      "name": "python",
      "mimetype": "text/x-python"
    },
    "colab": {
      "name": "DIPLOMA_FACE_EMOTIONS_RECOGNITION.ipynb",
      "provenance": [],
      "collapsed_sections": [],
      "include_colab_link": true
    },
    "accelerator": "GPU",
    "gpuClass": "standard"
  },
  "nbformat_minor": 0,
  "nbformat": 4,
  "cells": [
    {
      "cell_type": "markdown",
      "metadata": {
        "id": "view-in-github",
        "colab_type": "text"
      },
      "source": [
        "<a href=\"https://colab.research.google.com/github/lomovtsevp/diploma-real-time-emotions-recognition/blob/main/DIPLOMA_FACE_EMOTIONS_RECOGNITION.ipynb\" target=\"_parent\"><img src=\"https://colab.research.google.com/assets/colab-badge.svg\" alt=\"Open In Colab\"/></a>"
      ]
    },
    {
      "cell_type": "markdown",
      "source": [
        "This is the Pytorch implementation for fer-2013.\n",
        "Salient features inlcudes:-\n",
        "1. Albumentions data Augmentation\n",
        "2. One Cycle Policy\n",
        "Achived nearly 68.8 % Accuracy on test dataset"
      ],
      "metadata": {
        "id": "pWTh5MGVLmCa"
      }
    },
    {
      "cell_type": "code",
      "source": [
        "! pip install albumentations==0.4.6"
      ],
      "metadata": {
        "_uuid": "8f2839f25d086af736a60e9eeb907d3b93b6e0e5",
        "_cell_guid": "b1076dfc-b9ad-4769-8c92-a6c4dae69d19",
        "trusted": true,
        "id": "GQUxjEoRLmCj",
        "colab": {
          "base_uri": "https://localhost:8080/"
        },
        "outputId": "1742591d-0796-4193-9835-058f2c08727b"
      },
      "execution_count": 1,
      "outputs": [
        {
          "output_type": "stream",
          "name": "stdout",
          "text": [
            "Looking in indexes: https://pypi.org/simple, https://us-python.pkg.dev/colab-wheels/public/simple/\n",
            "Collecting albumentations==0.4.6\n",
            "  Downloading albumentations-0.4.6.tar.gz (117 kB)\n",
            "\u001b[K     |████████████████████████████████| 117 kB 8.0 MB/s \n",
            "\u001b[?25hRequirement already satisfied: numpy>=1.11.1 in /usr/local/lib/python3.7/dist-packages (from albumentations==0.4.6) (1.21.6)\n",
            "Requirement already satisfied: scipy in /usr/local/lib/python3.7/dist-packages (from albumentations==0.4.6) (1.7.3)\n",
            "Requirement already satisfied: imgaug>=0.4.0 in /usr/local/lib/python3.7/dist-packages (from albumentations==0.4.6) (0.4.0)\n",
            "Requirement already satisfied: PyYAML in /usr/local/lib/python3.7/dist-packages (from albumentations==0.4.6) (6.0)\n",
            "Requirement already satisfied: opencv-python>=4.1.1 in /usr/local/lib/python3.7/dist-packages (from albumentations==0.4.6) (4.6.0.66)\n",
            "Requirement already satisfied: imageio in /usr/local/lib/python3.7/dist-packages (from imgaug>=0.4.0->albumentations==0.4.6) (2.9.0)\n",
            "Requirement already satisfied: matplotlib in /usr/local/lib/python3.7/dist-packages (from imgaug>=0.4.0->albumentations==0.4.6) (3.2.2)\n",
            "Requirement already satisfied: scikit-image>=0.14.2 in /usr/local/lib/python3.7/dist-packages (from imgaug>=0.4.0->albumentations==0.4.6) (0.18.3)\n",
            "Requirement already satisfied: Pillow in /usr/local/lib/python3.7/dist-packages (from imgaug>=0.4.0->albumentations==0.4.6) (7.1.2)\n",
            "Requirement already satisfied: six in /usr/local/lib/python3.7/dist-packages (from imgaug>=0.4.0->albumentations==0.4.6) (1.15.0)\n",
            "Requirement already satisfied: Shapely in /usr/local/lib/python3.7/dist-packages (from imgaug>=0.4.0->albumentations==0.4.6) (1.8.4)\n",
            "Requirement already satisfied: tifffile>=2019.7.26 in /usr/local/lib/python3.7/dist-packages (from scikit-image>=0.14.2->imgaug>=0.4.0->albumentations==0.4.6) (2021.11.2)\n",
            "Requirement already satisfied: PyWavelets>=1.1.1 in /usr/local/lib/python3.7/dist-packages (from scikit-image>=0.14.2->imgaug>=0.4.0->albumentations==0.4.6) (1.3.0)\n",
            "Requirement already satisfied: networkx>=2.0 in /usr/local/lib/python3.7/dist-packages (from scikit-image>=0.14.2->imgaug>=0.4.0->albumentations==0.4.6) (2.6.3)\n",
            "Requirement already satisfied: kiwisolver>=1.0.1 in /usr/local/lib/python3.7/dist-packages (from matplotlib->imgaug>=0.4.0->albumentations==0.4.6) (1.4.4)\n",
            "Requirement already satisfied: pyparsing!=2.0.4,!=2.1.2,!=2.1.6,>=2.0.1 in /usr/local/lib/python3.7/dist-packages (from matplotlib->imgaug>=0.4.0->albumentations==0.4.6) (3.0.9)\n",
            "Requirement already satisfied: python-dateutil>=2.1 in /usr/local/lib/python3.7/dist-packages (from matplotlib->imgaug>=0.4.0->albumentations==0.4.6) (2.8.2)\n",
            "Requirement already satisfied: cycler>=0.10 in /usr/local/lib/python3.7/dist-packages (from matplotlib->imgaug>=0.4.0->albumentations==0.4.6) (0.11.0)\n",
            "Requirement already satisfied: typing-extensions in /usr/local/lib/python3.7/dist-packages (from kiwisolver>=1.0.1->matplotlib->imgaug>=0.4.0->albumentations==0.4.6) (4.1.1)\n",
            "Building wheels for collected packages: albumentations\n",
            "  Building wheel for albumentations (setup.py) ... \u001b[?25l\u001b[?25hdone\n",
            "  Created wheel for albumentations: filename=albumentations-0.4.6-py3-none-any.whl size=65174 sha256=225561ee32ce2528be207a9c7aa6b436d2e8841613ef11c862863a1e13958ae4\n",
            "  Stored in directory: /root/.cache/pip/wheels/cf/34/0f/cb2a5f93561a181a4bcc84847ad6aaceea8b5a3127469616cc\n",
            "Successfully built albumentations\n",
            "Installing collected packages: albumentations\n",
            "  Attempting uninstall: albumentations\n",
            "    Found existing installation: albumentations 1.2.1\n",
            "    Uninstalling albumentations-1.2.1:\n",
            "      Successfully uninstalled albumentations-1.2.1\n",
            "Successfully installed albumentations-0.4.6\n"
          ]
        }
      ]
    },
    {
      "cell_type": "code",
      "source": [
        "import torch\n",
        "from torch.utils import data\n",
        "import pandas as pd\n",
        "import albumentations\n",
        "from albumentations import pytorch as AT\n",
        "from tqdm import tqdm\n",
        "import math\n",
        "import numpy as np\n",
        "from PIL import Image\n",
        "from matplotlib import pyplot as plt\n",
        "%matplotlib inline \n",
        "import torch.nn.functional as F\n",
        "import torchvision.models as models\n",
        "from torch import nn\n",
        "#from torchsummary import summary\n",
        "from collections import OrderedDict\n",
        "import torch.optim as optim"
      ],
      "metadata": {
        "_uuid": "d629ff2d2480ee46fbb7e2d37f6b5fab8052498a",
        "_cell_guid": "79c7e3d0-c299-4dcb-8224-4455121ee9b0",
        "trusted": true,
        "id": "TpfSU-WtLmCn"
      },
      "execution_count": 2,
      "outputs": []
    },
    {
      "cell_type": "code",
      "source": [
        "use_cuda = torch.cuda.is_available()\n",
        "device = torch.device(\"cuda\" if use_cuda else \"cpu\")"
      ],
      "metadata": {
        "trusted": true,
        "id": "KkIiGyFQLmCp"
      },
      "execution_count": 3,
      "outputs": []
    },
    {
      "cell_type": "code",
      "source": [
        "df=pd.read_csv('https://vk.com/doc296252774_643448616?hash=TpIKEuEC3ZdxKzqqUejXFzhSUJ9U26wI2OQvLWeT2uL&dl=0S5aHfbhBFP6ZfIhPC41y6qDIw0vBKJa2H0BkZXdChT')\n",
        "df.head()"
      ],
      "metadata": {
        "trusted": true,
        "id": "i2NRkTD0LmCq",
        "colab": {
          "base_uri": "https://localhost:8080/",
          "height": 206
        },
        "outputId": "9e65bedc-e4f2-4abd-e2ed-c7b3248381cf"
      },
      "execution_count": 4,
      "outputs": [
        {
          "output_type": "execute_result",
          "data": {
            "text/plain": [
              "   emotion                                             pixels     Usage\n",
              "0        0  70 80 82 72 58 58 60 63 54 58 60 48 89 115 121...  Training\n",
              "1        0  151 150 147 155 148 133 111 140 170 174 182 15...  Training\n",
              "2        2  231 212 156 164 174 138 161 173 182 200 106 38...  Training\n",
              "3        4  24 32 36 30 32 23 19 20 30 41 21 22 32 34 21 1...  Training\n",
              "4        6  4 0 0 0 0 0 0 0 0 0 0 0 3 15 23 28 48 50 58 84...  Training"
            ],
            "text/html": [
              "\n",
              "  <div id=\"df-0625e3c7-4cd3-4c31-9fc4-7c5acf47d976\">\n",
              "    <div class=\"colab-df-container\">\n",
              "      <div>\n",
              "<style scoped>\n",
              "    .dataframe tbody tr th:only-of-type {\n",
              "        vertical-align: middle;\n",
              "    }\n",
              "\n",
              "    .dataframe tbody tr th {\n",
              "        vertical-align: top;\n",
              "    }\n",
              "\n",
              "    .dataframe thead th {\n",
              "        text-align: right;\n",
              "    }\n",
              "</style>\n",
              "<table border=\"1\" class=\"dataframe\">\n",
              "  <thead>\n",
              "    <tr style=\"text-align: right;\">\n",
              "      <th></th>\n",
              "      <th>emotion</th>\n",
              "      <th>pixels</th>\n",
              "      <th>Usage</th>\n",
              "    </tr>\n",
              "  </thead>\n",
              "  <tbody>\n",
              "    <tr>\n",
              "      <th>0</th>\n",
              "      <td>0</td>\n",
              "      <td>70 80 82 72 58 58 60 63 54 58 60 48 89 115 121...</td>\n",
              "      <td>Training</td>\n",
              "    </tr>\n",
              "    <tr>\n",
              "      <th>1</th>\n",
              "      <td>0</td>\n",
              "      <td>151 150 147 155 148 133 111 140 170 174 182 15...</td>\n",
              "      <td>Training</td>\n",
              "    </tr>\n",
              "    <tr>\n",
              "      <th>2</th>\n",
              "      <td>2</td>\n",
              "      <td>231 212 156 164 174 138 161 173 182 200 106 38...</td>\n",
              "      <td>Training</td>\n",
              "    </tr>\n",
              "    <tr>\n",
              "      <th>3</th>\n",
              "      <td>4</td>\n",
              "      <td>24 32 36 30 32 23 19 20 30 41 21 22 32 34 21 1...</td>\n",
              "      <td>Training</td>\n",
              "    </tr>\n",
              "    <tr>\n",
              "      <th>4</th>\n",
              "      <td>6</td>\n",
              "      <td>4 0 0 0 0 0 0 0 0 0 0 0 3 15 23 28 48 50 58 84...</td>\n",
              "      <td>Training</td>\n",
              "    </tr>\n",
              "  </tbody>\n",
              "</table>\n",
              "</div>\n",
              "      <button class=\"colab-df-convert\" onclick=\"convertToInteractive('df-0625e3c7-4cd3-4c31-9fc4-7c5acf47d976')\"\n",
              "              title=\"Convert this dataframe to an interactive table.\"\n",
              "              style=\"display:none;\">\n",
              "        \n",
              "  <svg xmlns=\"http://www.w3.org/2000/svg\" height=\"24px\"viewBox=\"0 0 24 24\"\n",
              "       width=\"24px\">\n",
              "    <path d=\"M0 0h24v24H0V0z\" fill=\"none\"/>\n",
              "    <path d=\"M18.56 5.44l.94 2.06.94-2.06 2.06-.94-2.06-.94-.94-2.06-.94 2.06-2.06.94zm-11 1L8.5 8.5l.94-2.06 2.06-.94-2.06-.94L8.5 2.5l-.94 2.06-2.06.94zm10 10l.94 2.06.94-2.06 2.06-.94-2.06-.94-.94-2.06-.94 2.06-2.06.94z\"/><path d=\"M17.41 7.96l-1.37-1.37c-.4-.4-.92-.59-1.43-.59-.52 0-1.04.2-1.43.59L10.3 9.45l-7.72 7.72c-.78.78-.78 2.05 0 2.83L4 21.41c.39.39.9.59 1.41.59.51 0 1.02-.2 1.41-.59l7.78-7.78 2.81-2.81c.8-.78.8-2.07 0-2.86zM5.41 20L4 18.59l7.72-7.72 1.47 1.35L5.41 20z\"/>\n",
              "  </svg>\n",
              "      </button>\n",
              "      \n",
              "  <style>\n",
              "    .colab-df-container {\n",
              "      display:flex;\n",
              "      flex-wrap:wrap;\n",
              "      gap: 12px;\n",
              "    }\n",
              "\n",
              "    .colab-df-convert {\n",
              "      background-color: #E8F0FE;\n",
              "      border: none;\n",
              "      border-radius: 50%;\n",
              "      cursor: pointer;\n",
              "      display: none;\n",
              "      fill: #1967D2;\n",
              "      height: 32px;\n",
              "      padding: 0 0 0 0;\n",
              "      width: 32px;\n",
              "    }\n",
              "\n",
              "    .colab-df-convert:hover {\n",
              "      background-color: #E2EBFA;\n",
              "      box-shadow: 0px 1px 2px rgba(60, 64, 67, 0.3), 0px 1px 3px 1px rgba(60, 64, 67, 0.15);\n",
              "      fill: #174EA6;\n",
              "    }\n",
              "\n",
              "    [theme=dark] .colab-df-convert {\n",
              "      background-color: #3B4455;\n",
              "      fill: #D2E3FC;\n",
              "    }\n",
              "\n",
              "    [theme=dark] .colab-df-convert:hover {\n",
              "      background-color: #434B5C;\n",
              "      box-shadow: 0px 1px 3px 1px rgba(0, 0, 0, 0.15);\n",
              "      filter: drop-shadow(0px 1px 2px rgba(0, 0, 0, 0.3));\n",
              "      fill: #FFFFFF;\n",
              "    }\n",
              "  </style>\n",
              "\n",
              "      <script>\n",
              "        const buttonEl =\n",
              "          document.querySelector('#df-0625e3c7-4cd3-4c31-9fc4-7c5acf47d976 button.colab-df-convert');\n",
              "        buttonEl.style.display =\n",
              "          google.colab.kernel.accessAllowed ? 'block' : 'none';\n",
              "\n",
              "        async function convertToInteractive(key) {\n",
              "          const element = document.querySelector('#df-0625e3c7-4cd3-4c31-9fc4-7c5acf47d976');\n",
              "          const dataTable =\n",
              "            await google.colab.kernel.invokeFunction('convertToInteractive',\n",
              "                                                     [key], {});\n",
              "          if (!dataTable) return;\n",
              "\n",
              "          const docLinkHtml = 'Like what you see? Visit the ' +\n",
              "            '<a target=\"_blank\" href=https://colab.research.google.com/notebooks/data_table.ipynb>data table notebook</a>'\n",
              "            + ' to learn more about interactive tables.';\n",
              "          element.innerHTML = '';\n",
              "          dataTable['output_type'] = 'display_data';\n",
              "          await google.colab.output.renderOutput(dataTable, element);\n",
              "          const docLink = document.createElement('div');\n",
              "          docLink.innerHTML = docLinkHtml;\n",
              "          element.appendChild(docLink);\n",
              "        }\n",
              "      </script>\n",
              "    </div>\n",
              "  </div>\n",
              "  "
            ]
          },
          "metadata": {},
          "execution_count": 4
        }
      ]
    },
    {
      "cell_type": "code",
      "source": [
        "df['Usage'].unique()"
      ],
      "metadata": {
        "trusted": true,
        "id": "lg3w2gDZLmCs",
        "colab": {
          "base_uri": "https://localhost:8080/"
        },
        "outputId": "c24c323e-09dc-40c0-ea00-22059936f832"
      },
      "execution_count": 5,
      "outputs": [
        {
          "output_type": "execute_result",
          "data": {
            "text/plain": [
              "array(['Training', 'PublicTest', 'PrivateTest'], dtype=object)"
            ]
          },
          "metadata": {},
          "execution_count": 5
        }
      ]
    },
    {
      "cell_type": "code",
      "source": [
        "print(len(df[df['Usage']=='Training']))\n",
        "print(len(df[df['Usage']=='PublicTest']))\n",
        "print(len(df[df['Usage']=='PrivateTest']))"
      ],
      "metadata": {
        "trusted": true,
        "id": "HbrwQQkvLmCt",
        "colab": {
          "base_uri": "https://localhost:8080/"
        },
        "outputId": "616474d5-150c-49bf-bbc2-d46514c405cd"
      },
      "execution_count": 6,
      "outputs": [
        {
          "output_type": "stream",
          "name": "stdout",
          "text": [
            "28709\n",
            "3589\n",
            "3589\n"
          ]
        }
      ]
    },
    {
      "cell_type": "markdown",
      "source": [
        "**Converting pixes values to int**"
      ],
      "metadata": {
        "id": "R-N1Tm4VLmCu"
      }
    },
    {
      "cell_type": "code",
      "source": [
        "df['pixelss']=[[int(y) for y in x.split()] for x in df['pixels']]"
      ],
      "metadata": {
        "trusted": true,
        "id": "YmoDpfbWLmCw"
      },
      "execution_count": 7,
      "outputs": []
    },
    {
      "cell_type": "code",
      "source": [
        "df.head()"
      ],
      "metadata": {
        "trusted": true,
        "id": "HHqtUEUqLmCx",
        "colab": {
          "base_uri": "https://localhost:8080/",
          "height": 206
        },
        "outputId": "14b3e738-9319-4bc6-8736-00a1d3505cb9"
      },
      "execution_count": 8,
      "outputs": [
        {
          "output_type": "execute_result",
          "data": {
            "text/plain": [
              "   emotion                                             pixels     Usage  \\\n",
              "0        0  70 80 82 72 58 58 60 63 54 58 60 48 89 115 121...  Training   \n",
              "1        0  151 150 147 155 148 133 111 140 170 174 182 15...  Training   \n",
              "2        2  231 212 156 164 174 138 161 173 182 200 106 38...  Training   \n",
              "3        4  24 32 36 30 32 23 19 20 30 41 21 22 32 34 21 1...  Training   \n",
              "4        6  4 0 0 0 0 0 0 0 0 0 0 0 3 15 23 28 48 50 58 84...  Training   \n",
              "\n",
              "                                             pixelss  \n",
              "0  [70, 80, 82, 72, 58, 58, 60, 63, 54, 58, 60, 4...  \n",
              "1  [151, 150, 147, 155, 148, 133, 111, 140, 170, ...  \n",
              "2  [231, 212, 156, 164, 174, 138, 161, 173, 182, ...  \n",
              "3  [24, 32, 36, 30, 32, 23, 19, 20, 30, 41, 21, 2...  \n",
              "4  [4, 0, 0, 0, 0, 0, 0, 0, 0, 0, 0, 0, 3, 15, 23...  "
            ],
            "text/html": [
              "\n",
              "  <div id=\"df-8a52b2d7-19e2-481a-ad15-93733f7141d7\">\n",
              "    <div class=\"colab-df-container\">\n",
              "      <div>\n",
              "<style scoped>\n",
              "    .dataframe tbody tr th:only-of-type {\n",
              "        vertical-align: middle;\n",
              "    }\n",
              "\n",
              "    .dataframe tbody tr th {\n",
              "        vertical-align: top;\n",
              "    }\n",
              "\n",
              "    .dataframe thead th {\n",
              "        text-align: right;\n",
              "    }\n",
              "</style>\n",
              "<table border=\"1\" class=\"dataframe\">\n",
              "  <thead>\n",
              "    <tr style=\"text-align: right;\">\n",
              "      <th></th>\n",
              "      <th>emotion</th>\n",
              "      <th>pixels</th>\n",
              "      <th>Usage</th>\n",
              "      <th>pixelss</th>\n",
              "    </tr>\n",
              "  </thead>\n",
              "  <tbody>\n",
              "    <tr>\n",
              "      <th>0</th>\n",
              "      <td>0</td>\n",
              "      <td>70 80 82 72 58 58 60 63 54 58 60 48 89 115 121...</td>\n",
              "      <td>Training</td>\n",
              "      <td>[70, 80, 82, 72, 58, 58, 60, 63, 54, 58, 60, 4...</td>\n",
              "    </tr>\n",
              "    <tr>\n",
              "      <th>1</th>\n",
              "      <td>0</td>\n",
              "      <td>151 150 147 155 148 133 111 140 170 174 182 15...</td>\n",
              "      <td>Training</td>\n",
              "      <td>[151, 150, 147, 155, 148, 133, 111, 140, 170, ...</td>\n",
              "    </tr>\n",
              "    <tr>\n",
              "      <th>2</th>\n",
              "      <td>2</td>\n",
              "      <td>231 212 156 164 174 138 161 173 182 200 106 38...</td>\n",
              "      <td>Training</td>\n",
              "      <td>[231, 212, 156, 164, 174, 138, 161, 173, 182, ...</td>\n",
              "    </tr>\n",
              "    <tr>\n",
              "      <th>3</th>\n",
              "      <td>4</td>\n",
              "      <td>24 32 36 30 32 23 19 20 30 41 21 22 32 34 21 1...</td>\n",
              "      <td>Training</td>\n",
              "      <td>[24, 32, 36, 30, 32, 23, 19, 20, 30, 41, 21, 2...</td>\n",
              "    </tr>\n",
              "    <tr>\n",
              "      <th>4</th>\n",
              "      <td>6</td>\n",
              "      <td>4 0 0 0 0 0 0 0 0 0 0 0 3 15 23 28 48 50 58 84...</td>\n",
              "      <td>Training</td>\n",
              "      <td>[4, 0, 0, 0, 0, 0, 0, 0, 0, 0, 0, 0, 3, 15, 23...</td>\n",
              "    </tr>\n",
              "  </tbody>\n",
              "</table>\n",
              "</div>\n",
              "      <button class=\"colab-df-convert\" onclick=\"convertToInteractive('df-8a52b2d7-19e2-481a-ad15-93733f7141d7')\"\n",
              "              title=\"Convert this dataframe to an interactive table.\"\n",
              "              style=\"display:none;\">\n",
              "        \n",
              "  <svg xmlns=\"http://www.w3.org/2000/svg\" height=\"24px\"viewBox=\"0 0 24 24\"\n",
              "       width=\"24px\">\n",
              "    <path d=\"M0 0h24v24H0V0z\" fill=\"none\"/>\n",
              "    <path d=\"M18.56 5.44l.94 2.06.94-2.06 2.06-.94-2.06-.94-.94-2.06-.94 2.06-2.06.94zm-11 1L8.5 8.5l.94-2.06 2.06-.94-2.06-.94L8.5 2.5l-.94 2.06-2.06.94zm10 10l.94 2.06.94-2.06 2.06-.94-2.06-.94-.94-2.06-.94 2.06-2.06.94z\"/><path d=\"M17.41 7.96l-1.37-1.37c-.4-.4-.92-.59-1.43-.59-.52 0-1.04.2-1.43.59L10.3 9.45l-7.72 7.72c-.78.78-.78 2.05 0 2.83L4 21.41c.39.39.9.59 1.41.59.51 0 1.02-.2 1.41-.59l7.78-7.78 2.81-2.81c.8-.78.8-2.07 0-2.86zM5.41 20L4 18.59l7.72-7.72 1.47 1.35L5.41 20z\"/>\n",
              "  </svg>\n",
              "      </button>\n",
              "      \n",
              "  <style>\n",
              "    .colab-df-container {\n",
              "      display:flex;\n",
              "      flex-wrap:wrap;\n",
              "      gap: 12px;\n",
              "    }\n",
              "\n",
              "    .colab-df-convert {\n",
              "      background-color: #E8F0FE;\n",
              "      border: none;\n",
              "      border-radius: 50%;\n",
              "      cursor: pointer;\n",
              "      display: none;\n",
              "      fill: #1967D2;\n",
              "      height: 32px;\n",
              "      padding: 0 0 0 0;\n",
              "      width: 32px;\n",
              "    }\n",
              "\n",
              "    .colab-df-convert:hover {\n",
              "      background-color: #E2EBFA;\n",
              "      box-shadow: 0px 1px 2px rgba(60, 64, 67, 0.3), 0px 1px 3px 1px rgba(60, 64, 67, 0.15);\n",
              "      fill: #174EA6;\n",
              "    }\n",
              "\n",
              "    [theme=dark] .colab-df-convert {\n",
              "      background-color: #3B4455;\n",
              "      fill: #D2E3FC;\n",
              "    }\n",
              "\n",
              "    [theme=dark] .colab-df-convert:hover {\n",
              "      background-color: #434B5C;\n",
              "      box-shadow: 0px 1px 3px 1px rgba(0, 0, 0, 0.15);\n",
              "      filter: drop-shadow(0px 1px 2px rgba(0, 0, 0, 0.3));\n",
              "      fill: #FFFFFF;\n",
              "    }\n",
              "  </style>\n",
              "\n",
              "      <script>\n",
              "        const buttonEl =\n",
              "          document.querySelector('#df-8a52b2d7-19e2-481a-ad15-93733f7141d7 button.colab-df-convert');\n",
              "        buttonEl.style.display =\n",
              "          google.colab.kernel.accessAllowed ? 'block' : 'none';\n",
              "\n",
              "        async function convertToInteractive(key) {\n",
              "          const element = document.querySelector('#df-8a52b2d7-19e2-481a-ad15-93733f7141d7');\n",
              "          const dataTable =\n",
              "            await google.colab.kernel.invokeFunction('convertToInteractive',\n",
              "                                                     [key], {});\n",
              "          if (!dataTable) return;\n",
              "\n",
              "          const docLinkHtml = 'Like what you see? Visit the ' +\n",
              "            '<a target=\"_blank\" href=https://colab.research.google.com/notebooks/data_table.ipynb>data table notebook</a>'\n",
              "            + ' to learn more about interactive tables.';\n",
              "          element.innerHTML = '';\n",
              "          dataTable['output_type'] = 'display_data';\n",
              "          await google.colab.output.renderOutput(dataTable, element);\n",
              "          const docLink = document.createElement('div');\n",
              "          docLink.innerHTML = docLinkHtml;\n",
              "          element.appendChild(docLink);\n",
              "        }\n",
              "      </script>\n",
              "    </div>\n",
              "  </div>\n",
              "  "
            ]
          },
          "metadata": {},
          "execution_count": 8
        }
      ]
    },
    {
      "cell_type": "code",
      "source": [
        "df_train=df[df['Usage']=='Training']\n",
        "df_valid=df[df['Usage']=='PrivateTest']\n",
        "df_test=df[df['Usage']=='PublicTest']"
      ],
      "metadata": {
        "trusted": true,
        "id": "tOlnyh4BLmCz"
      },
      "execution_count": 9,
      "outputs": []
    },
    {
      "cell_type": "code",
      "source": [
        "z=np.array(df_train['pixelss'][0])\n",
        "zz=z.reshape(48,48)\n",
        "plt.imshow(zz, interpolation='nearest',cmap='gray')\n",
        "plt.show()"
      ],
      "metadata": {
        "trusted": true,
        "id": "GaMRccEKLmC0",
        "colab": {
          "base_uri": "https://localhost:8080/",
          "height": 267
        },
        "outputId": "f768ffd9-0ac4-438c-8200-2ea4fa207765"
      },
      "execution_count": 10,
      "outputs": [
        {
          "output_type": "display_data",
          "data": {
            "text/plain": [
              "<Figure size 432x288 with 1 Axes>"
            ],
            "image/png": "[encoded data removed]"
          },
          "metadata": {
            "needs_background": "light"
          }
        }
      ]
    },
    {
      "cell_type": "code",
      "source": [
        "part={}\n",
        "part['train']= list(range(0,len(df_train)))\n",
        "part['valid']= list(range(0,len(df_valid)))\n",
        "part['test']= list(range(0,len(df_test)))\n",
        "train_labels=df_train['emotion'].tolist()\n",
        "valid_labels=df_valid['emotion'].tolist()\n",
        "test_labels=df_test['emotion'].tolist()"
      ],
      "metadata": {
        "trusted": true,
        "id": "gz1WkK2QLmC2"
      },
      "execution_count": 11,
      "outputs": []
    },
    {
      "cell_type": "code",
      "source": [
        "class Dataset(data.Dataset):\n",
        "  'Characterizes a dataset for PyTorch'\n",
        "  def __init__(self, dff, transforms):\n",
        "        'Initialization'\n",
        "        self.transforms = transforms\n",
        "        self.dff=dff\n",
        "\n",
        "  def __len__(self):\n",
        "        'Denotes the total number of samples'\n",
        "        return len(self.dff)\n",
        "\n",
        "  def __getitem__(self, index):\n",
        "        'Generates one sample of data'\n",
        "        # Select sample\n",
        "        #ID = self.list_IDs[index]\n",
        "\n",
        "        # Load data and get label\n",
        "        X = self.dff.iloc[index]['pixelss']\n",
        "        X = np.array(X).reshape(48,48,1)\n",
        "        y = self.dff.iloc[index]['emotion']\n",
        "\n",
        "        if self.transforms:\n",
        "          X = self.transforms(X)\n",
        "        \n",
        "        X = torch.cat((X,X,X),0)\n",
        "\n",
        "        return X, y"
      ],
      "metadata": {
        "trusted": true,
        "id": "Z8AsHUnmLmC3"
      },
      "execution_count": 12,
      "outputs": []
    },
    {
      "cell_type": "code",
      "source": [
        "params = {'batch_size': 64,'shuffle': True,'num_workers': 10}"
      ],
      "metadata": {
        "trusted": true,
        "id": "-mpwvtHILmC5"
      },
      "execution_count": 13,
      "outputs": []
    },
    {
      "cell_type": "code",
      "source": [
        "class AlbumentationWrapper(object):\n",
        "    def __init__(self,split):\n",
        "        self.split=split\n",
        "        self.aug=albumentations.Compose([                                         \n",
        "    albumentations.Normalize((0.5), (0.5)),\n",
        "    AT.ToTensor()\n",
        "    ])\n",
        "\t\n",
        "        if self.split=='train':\n",
        "            self.aug=albumentations.Compose([\n",
        "                                             \n",
        "            #albumentations.Resize(48,48),\n",
        "    albumentations.HorizontalFlip(),\n",
        "    albumentations.Cutout(2,2,2,0.5),\n",
        "    albumentations.GaussNoise(),\n",
        "    #albumentations.ElasticTransform(),    \n",
        "    albumentations.Normalize((0.5), (0.5)),\n",
        "    AT.ToTensor()    \n",
        "    ])\n",
        "            \n",
        "    def __call__(self,img):\n",
        "        #img = np.array(img)\n",
        "        img = self.aug(image=img)['image']\n",
        "        return img"
      ],
      "metadata": {
        "trusted": true,
        "id": "Qwfu0lKOLmC5"
      },
      "execution_count": 14,
      "outputs": []
    },
    {
      "cell_type": "code",
      "source": [
        "train_transforms , validation_transforms=AlbumentationWrapper('train'), AlbumentationWrapper('test')"
      ],
      "metadata": {
        "trusted": true,
        "id": "VE8op0-OLmC7"
      },
      "execution_count": 15,
      "outputs": []
    },
    {
      "cell_type": "markdown",
      "source": [
        "**Loading datasets**"
      ],
      "metadata": {
        "id": "9CGXF4VqLmC7"
      }
    },
    {
      "cell_type": "code",
      "source": [
        "training_set = Dataset(df_train, train_transforms)\n",
        "training_generator = data.DataLoader(training_set, **params)\n",
        "\n",
        "validation_set = Dataset(df_valid, validation_transforms)\n",
        "validation_generator = data.DataLoader(validation_set, **params)\n",
        "\n",
        "test_set = Dataset(df_test, validation_transforms)\n",
        "test_generator = data.DataLoader(test_set, **params)"
      ],
      "metadata": {
        "trusted": true,
        "colab": {
          "base_uri": "https://localhost:8080/"
        },
        "id": "dRt_0SlYLmC8",
        "outputId": "def64dcd-2f47-4c69-961b-74651f0a2999"
      },
      "execution_count": 16,
      "outputs": [
        {
          "output_type": "stream",
          "name": "stderr",
          "text": [
            "/usr/local/lib/python3.7/dist-packages/torch/utils/data/dataloader.py:566: UserWarning: This DataLoader will create 10 worker processes in total. Our suggested max number of worker in current system is 2, which is smaller than what this DataLoader is going to create. Please be aware that excessive worker creation might get DataLoader running slow or even freeze, lower the worker number to avoid potential slowness/freeze if necessary.\n",
            "  cpuset_checked))\n"
          ]
        }
      ]
    },
    {
      "cell_type": "markdown",
      "source": [
        "**function for plotting the test accuracy and loss curve**"
      ],
      "metadata": {
        "id": "wAboKnScLmC9"
      }
    },
    {
      "cell_type": "code",
      "source": [
        "def plot(train_losses,train_acc,test_losses,test_acc, label):\n",
        "  fig, axs = plt.subplots(1,2,figsize=(20,8))\n",
        "  axs[0].plot(test_losses, label=label)\n",
        "  axs[0].set_title(\"Test Loss\")\n",
        "  axs[1].plot(test_acc, label=label)\n",
        "  axs[1].set_title(\"Test Accuracy\")"
      ],
      "metadata": {
        "trusted": true,
        "id": "RujcLEVPLmC-"
      },
      "execution_count": 17,
      "outputs": []
    },
    {
      "cell_type": "markdown",
      "source": [
        "**Function for getting Learning rate at runtime**"
      ],
      "metadata": {
        "id": "Y9iPnpmILmC-"
      }
    },
    {
      "cell_type": "code",
      "source": [
        "def get_lr(optimizer):\n",
        "    for param_group in optimizer.param_groups:\n",
        "        return param_group['lr']"
      ],
      "metadata": {
        "trusted": true,
        "id": "mN7cNsS4LmC_"
      },
      "execution_count": 18,
      "outputs": []
    },
    {
      "cell_type": "markdown",
      "source": [
        "**Model Trainning Code**"
      ],
      "metadata": {
        "id": "U87gZvSbLmDA"
      }
    },
    {
      "cell_type": "code",
      "source": [
        "def train(model, train_loader, optimizer,scheduler):\n",
        "  model.train()\n",
        "  pbar = tqdm(train_loader)\n",
        "  running_loss = 0.0\n",
        "  correct = 0\n",
        "  processed = 0\n",
        "  criterion = nn.CrossEntropyLoss()\n",
        "\n",
        "  for batch_idx, (data, target) in enumerate(pbar):\n",
        "    data, target = data.to(device), target.to(device)\n",
        "    optimizer.zero_grad()\n",
        "    y_pred = model(data)\n",
        "    loss = criterion(y_pred, target)\n",
        "    running_loss += loss.item()\n",
        "    train_loss.append(loss)\n",
        "    loss.backward()\n",
        "    optimizer.step()\n",
        "    scheduler.step()\n",
        "\n",
        "    pred = y_pred.argmax(dim=1, keepdim=True)  # get the index of the max log-probability\n",
        "    correct += pred.eq(target.view_as(pred)).sum().item()\n",
        "    processed += len(data)\n",
        "\n",
        "    #pbar.set_description(desc= f'Loss={loss.item()} Batch_id={batch_idx} Accuracy={100*correct/processed:0.2f} running_loss={running_loss} threshold={best_loss*(0.996)}')\n",
        "    train_acc.append(100*correct/processed)\n",
        "    pbar.set_description(desc= f'Loss={loss.item()} Batch_id={batch_idx} le={get_lr(optimizer)} Accuracy={100*correct/processed:0.2f}')"
      ],
      "metadata": {
        "trusted": true,
        "id": "BLf0ZimXLmDA"
      },
      "execution_count": 19,
      "outputs": []
    },
    {
      "cell_type": "markdown",
      "source": [
        "**Model Test Code**"
      ],
      "metadata": {
        "id": "5a2d3mmkLmDB"
      }
    },
    {
      "cell_type": "code",
      "source": [
        "def test(model, test_loader):\n",
        "    model.eval()\n",
        "    test_loss = 0\n",
        "    correct = 0\n",
        "    criterion = nn.CrossEntropyLoss()\n",
        "    with torch.no_grad():\n",
        "        for data, target in test_loader:\n",
        "            data, target = data.to(device), target.to(device)\n",
        "            output = model(data)\n",
        "            test_loss += criterion(output, target).item()  # sum up batch loss\n",
        "            pred = output.argmax(dim=1, keepdim=True)  # get the index of the max log-probability\n",
        "            new_target=target.view_as(pred)\n",
        "            correct += pred.eq(target.view_as(pred)).sum().item()\n",
        "\n",
        "    test_loss /= len(test_loader.dataset)\n",
        "    valid_loss.append(test_loss)\n",
        "\n",
        "    print('\\nTest set: Average loss: {:.4f}, Accuracy: {}/{} ({:.2f}%)\\n'.format(\n",
        "        test_loss, correct, len(test_loader.dataset),\n",
        "        100. * correct / len(test_loader.dataset)))\n",
        "    \n",
        "    valid_acc.append(100. * correct / len(test_loader.dataset))"
      ],
      "metadata": {
        "trusted": true,
        "id": "Jg-uvhFbLmDB"
      },
      "execution_count": 20,
      "outputs": []
    },
    {
      "cell_type": "markdown",
      "source": [
        "**Custom Model**"
      ],
      "metadata": {
        "id": "LBJSfqncLmDB"
      }
    },
    {
      "cell_type": "code",
      "source": [
        "class Net(nn.Module):\n",
        "    def __init__(self, dropout):\n",
        "        super(Net, self).__init__()\n",
        "        dropout_value = dropout\n",
        "        # Input Block\n",
        "        self.convblock1 = nn.Sequential(\n",
        "            nn.Conv2d(in_channels=3, out_channels=32, kernel_size=(3, 3), padding=1, bias=False),\n",
        "            nn.ReLU(),\n",
        "            nn.BatchNorm2d(32),\n",
        "            # nn.Dropout(dropout_value)\n",
        "        ) \n",
        "\n",
        "        self.convblock2 = nn.Sequential(\n",
        "            nn.Conv2d(in_channels=32, out_channels=64, kernel_size=(3, 3), padding=1, bias=False),\n",
        "            nn.ReLU(),\n",
        "            nn.BatchNorm2d(64),\n",
        "            # nn.Dropout(dropout_value)            \n",
        "        ) \n",
        "\n",
        "        # TRANSITION BLOCK 1\n",
        "        self.pool1 = nn.MaxPool2d(2, 2) # output_size = 24 RF=7\n",
        "        self.convblock3 = nn.Sequential(\n",
        "            nn.Conv2d(in_channels=64, out_channels=128, kernel_size=(3, 3), padding=1, bias=False),\n",
        "            nn.ReLU(),\n",
        "            nn.BatchNorm2d(128),\n",
        "            # nn.Dropout(dropout_value)            \n",
        "        ) \n",
        "\n",
        "        self.convblock4 = nn.Sequential(\n",
        "            nn.Conv2d(in_channels=128, out_channels=256, kernel_size=(3, 3), padding=1, bias=False),\n",
        "            nn.ReLU(),\n",
        "            nn.BatchNorm2d(256),\n",
        "        ) \n",
        "\n",
        "        self.convblock5 = nn.Sequential(\n",
        "            nn.Conv2d(in_channels=256, out_channels=512, kernel_size=(1, 1), padding=1 , bias=False),\n",
        "            nn.ReLU(),\n",
        "            nn.BatchNorm2d(512),\n",
        "            # nn.Dropout(dropout_value)            \n",
        "        ) \n",
        "\n",
        "        # TRANSITION BLOCK 2\n",
        "        self.pool2 = nn.MaxPool2d(2, 2) # output_size = 12 RF=20\n",
        "\n",
        "        # CONVOLUTION BLOCK 2\n",
        "        self.convblock6 = nn.Sequential(\n",
        "            nn.Conv2d(in_channels=512, out_channels=1024, kernel_size=(3, 3), padding=1, bias=False),\n",
        "            nn.ReLU(),\n",
        "            nn.BatchNorm2d(1024),\n",
        "            # nn.Dropout(dropout_value)            \n",
        "        ) \n",
        "\n",
        "        self.convblock7 = nn.Sequential(\n",
        "            nn.Conv2d(in_channels=1024, out_channels=1024, kernel_size=(3, 3), padding=1, bias=False),\n",
        "            nn.ReLU(),\n",
        "            nn.BatchNorm2d(1024),\n",
        "            # nn.Dropout(dropout_value)            \n",
        "        )\n",
        "\n",
        "        # TRANSITION BLOCK 3\n",
        "        self.pool3 = nn.MaxPool2d(2, 2) # output_size =6 RF=32\n",
        "\n",
        "        self.convblock8 = nn.Sequential(\n",
        "             nn.Conv2d(in_channels=1024, out_channels=512, kernel_size=(3, 3), padding=1, bias=False),\n",
        "             nn.ReLU(),\n",
        "             nn.BatchNorm2d(512),\n",
        "             # nn.Dropout(dropout_value)            \n",
        "         ) \n",
        "\n",
        "        self.convblock9 = nn.Sequential(\n",
        "             nn.Conv2d(in_channels=512, out_channels=256, kernel_size=(3, 3), padding=0, bias=False),\n",
        "             nn.ReLU(),\n",
        "             nn.BatchNorm2d(256),\n",
        "             # nn.Dropout(dropout_value)            \n",
        "         )\n",
        "        # self.pool2 = nn.MaxPool2d(2, 2) # output_size = 2\n",
        "        self.gap = nn.Sequential(\n",
        "            nn.AvgPool2d(kernel_size=4)\n",
        "        ) \n",
        "        self.convblock10 = nn.Sequential(\n",
        "            nn.Conv2d(in_channels=256, out_channels=7, kernel_size=(1, 1), padding=0, bias=False)\n",
        "        ) \n",
        "\n",
        "    def forward(self, x):\n",
        "        x = self.convblock1(x)\n",
        "        x = self.convblock2(x)\n",
        "        x = self.pool1(x)\n",
        "        x = self.convblock3(x)        \n",
        "        x = self.convblock4(x)\n",
        "        x = self.convblock5(x)\n",
        "        x = self.pool2(x)\n",
        "        x = self.convblock6(x)\n",
        "        x = self.convblock7(x)\n",
        "        x = self.pool3(x)   \n",
        "        x = self.convblock8(x) \n",
        "        x = self.convblock9(x)    \n",
        "        x = self.gap(x)\n",
        "        x = self.convblock10(x)\n",
        "        x = x.view(-1, 7)\n",
        "        return F.log_softmax(x, dim=-1)"
      ],
      "metadata": {
        "trusted": true,
        "id": "96yLsrTxLmDC"
      },
      "execution_count": 21,
      "outputs": []
    },
    {
      "cell_type": "code",
      "source": [
        "model=Net(1.0)\n",
        "model.to(device)\n",
        "epochs=32\n",
        "optimizer = optim.SGD(model.parameters(), lr=0.002, momentum=0.9, weight_decay=9e-4)\n",
        "scheduler = torch.optim.lr_scheduler.OneCycleLR(optimizer, max_lr=0.02, steps_per_epoch=len(training_generator), pct_start=0.2, div_factor=10, cycle_momentum=False, epochs=epochs)\n",
        "\n",
        "input_size=(3,48,48)\n",
        "train_acc = []\n",
        "train_loss = []\n",
        "valid_acc = []\n",
        "valid_loss = []\n",
        "for epoch in range(epochs):\n",
        "    print(\"EPOCH: %s LR: %s \" % (epoch, get_lr(optimizer)))\n",
        "    train(model, training_generator, optimizer,scheduler)\n",
        "    test(model, validation_generator)\n",
        "    #scheduler.step()\n",
        "plot(train_loss,train_acc, valid_loss, valid_acc, 'Loss & Accuracy')"
      ],
      "metadata": {
        "trusted": true,
        "colab": {
          "base_uri": "https://localhost:8080/",
          "height": 1000
        },
        "id": "WYjyVG5lLmDD",
        "outputId": "9db56e8b-2be1-4d83-9016-5c1dad7bc96c"
      },
      "execution_count": 22,
      "outputs": [
        {
          "output_type": "stream",
          "name": "stdout",
          "text": [
            "EPOCH: 0 LR: 0.0019999999999999983 \n"
          ]
        },
        {
          "output_type": "stream",
          "name": "stderr",
          "text": [
            "Loss=1.6359188556671143 Batch_id=448 le=0.0030634337130716477 Accuracy=29.26: 100%|██████████| 449/449 [01:21<00:00,  5.49it/s]\n"
          ]
        },
        {
          "output_type": "stream",
          "name": "stdout",
          "text": [
            "\n",
            "Test set: Average loss: 0.0284, Accuracy: 1397/3589 (38.92%)\n",
            "\n",
            "EPOCH: 1 LR: 0.0030634337130716477 \n"
          ]
        },
        {
          "output_type": "stream",
          "name": "stderr",
          "text": [
            "Loss=1.7303553819656372 Batch_id=448 le=0.006002425682931637 Accuracy=36.61: 100%|██████████| 449/449 [01:15<00:00,  5.96it/s]\n"
          ]
        },
        {
          "output_type": "stream",
          "name": "stdout",
          "text": [
            "\n",
            "Test set: Average loss: 0.0246, Accuracy: 1650/3589 (45.97%)\n",
            "\n",
            "EPOCH: 2 LR: 0.006002425682931637 \n"
          ]
        },
        {
          "output_type": "stream",
          "name": "stderr",
          "text": [
            "Loss=1.677746295928955 Batch_id=448 le=0.010122437433314183 Accuracy=37.95: 100%|██████████| 449/449 [01:15<00:00,  5.95it/s]\n"
          ]
        },
        {
          "output_type": "stream",
          "name": "stdout",
          "text": [
            "\n",
            "Test set: Average loss: 0.0205, Accuracy: 1876/3589 (52.27%)\n",
            "\n",
            "EPOCH: 3 LR: 0.010122437433314183 \n"
          ]
        },
        {
          "output_type": "stream",
          "name": "stderr",
          "text": [
            "Loss=1.5305300951004028 Batch_id=448 le=0.014449833543417487 Accuracy=38.97: 100%|██████████| 449/449 [01:15<00:00,  5.95it/s]\n"
          ]
        },
        {
          "output_type": "stream",
          "name": "stdout",
          "text": [
            "\n",
            "Test set: Average loss: 0.0205, Accuracy: 1916/3589 (53.39%)\n",
            "\n",
            "EPOCH: 4 LR: 0.014449833543417487 \n"
          ]
        },
        {
          "output_type": "stream",
          "name": "stderr",
          "text": [
            "Loss=1.6179111003875732 Batch_id=448 le=0.017961969810286214 Accuracy=40.23: 100%|██████████| 449/449 [01:15<00:00,  5.95it/s]\n"
          ]
        },
        {
          "output_type": "stream",
          "name": "stdout",
          "text": [
            "\n",
            "Test set: Average loss: 0.0181, Accuracy: 2064/3589 (57.51%)\n",
            "\n",
            "EPOCH: 5 LR: 0.017961969810286214 \n"
          ]
        },
        {
          "output_type": "stream",
          "name": "stderr",
          "text": [
            "Loss=1.5032099485397339 Batch_id=448 le=0.019828863098122623 Accuracy=41.29: 100%|██████████| 449/449 [01:15<00:00,  5.98it/s]\n"
          ]
        },
        {
          "output_type": "stream",
          "name": "stdout",
          "text": [
            "\n",
            "Test set: Average loss: 0.0186, Accuracy: 1947/3589 (54.25%)\n",
            "\n",
            "EPOCH: 6 LR: 0.019828863098122623 \n"
          ]
        },
        {
          "output_type": "stream",
          "name": "stderr",
          "text": [
            "Loss=1.4110599756240845 Batch_id=448 le=0.01997270340423158 Accuracy=42.00: 100%|██████████| 449/449 [01:15<00:00,  5.99it/s]\n"
          ]
        },
        {
          "output_type": "stream",
          "name": "stdout",
          "text": [
            "\n",
            "Test set: Average loss: 0.0175, Accuracy: 2099/3589 (58.48%)\n",
            "\n",
            "EPOCH: 7 LR: 0.01997270340423158 \n"
          ]
        },
        {
          "output_type": "stream",
          "name": "stderr",
          "text": [
            "Loss=1.4113991260528564 Batch_id=448 le=0.01980732115328246 Accuracy=42.81: 100%|██████████| 449/449 [01:15<00:00,  5.97it/s]\n"
          ]
        },
        {
          "output_type": "stream",
          "name": "stdout",
          "text": [
            "\n",
            "Test set: Average loss: 0.0171, Accuracy: 2107/3589 (58.71%)\n",
            "\n",
            "EPOCH: 8 LR: 0.01980732115328246 \n"
          ]
        },
        {
          "output_type": "stream",
          "name": "stderr",
          "text": [
            "Loss=1.5334622859954834 Batch_id=448 le=0.019494429167601215 Accuracy=43.78: 100%|██████████| 449/449 [01:15<00:00,  5.98it/s]\n"
          ]
        },
        {
          "output_type": "stream",
          "name": "stdout",
          "text": [
            "\n",
            "Test set: Average loss: 0.0177, Accuracy: 2138/3589 (59.57%)\n",
            "\n",
            "EPOCH: 9 LR: 0.019494429167601215 \n"
          ]
        },
        {
          "output_type": "stream",
          "name": "stderr",
          "text": [
            "Loss=1.519789695739746 Batch_id=448 le=0.019038733633893166 Accuracy=44.23: 100%|██████████| 449/449 [01:15<00:00,  5.96it/s]\n"
          ]
        },
        {
          "output_type": "stream",
          "name": "stdout",
          "text": [
            "\n",
            "Test set: Average loss: 0.0167, Accuracy: 2157/3589 (60.10%)\n",
            "\n",
            "EPOCH: 10 LR: 0.019038733633893166 \n"
          ]
        },
        {
          "output_type": "stream",
          "name": "stderr",
          "text": [
            "Loss=1.495168685913086 Batch_id=448 le=0.018447088637147856 Accuracy=44.79: 100%|██████████| 449/449 [01:14<00:00,  6.01it/s]\n"
          ]
        },
        {
          "output_type": "stream",
          "name": "stdout",
          "text": [
            "\n",
            "Test set: Average loss: 0.0160, Accuracy: 2250/3589 (62.69%)\n",
            "\n",
            "EPOCH: 11 LR: 0.018447088637147856 \n"
          ]
        },
        {
          "output_type": "stream",
          "name": "stderr",
          "text": [
            "Loss=1.3027011156082153 Batch_id=448 le=0.017728393068821027 Accuracy=45.46: 100%|██████████| 449/449 [01:15<00:00,  5.97it/s]\n"
          ]
        },
        {
          "output_type": "stream",
          "name": "stdout",
          "text": [
            "\n",
            "Test set: Average loss: 0.0160, Accuracy: 2271/3589 (63.28%)\n",
            "\n",
            "EPOCH: 12 LR: 0.017728393068821027 \n"
          ]
        },
        {
          "output_type": "stream",
          "name": "stderr",
          "text": [
            "Loss=1.5020182132720947 Batch_id=448 le=0.016893456779224002 Accuracy=45.66: 100%|██████████| 449/449 [01:14<00:00,  6.01it/s]\n"
          ]
        },
        {
          "output_type": "stream",
          "name": "stdout",
          "text": [
            "\n",
            "Test set: Average loss: 0.0158, Accuracy: 2271/3589 (63.28%)\n",
            "\n",
            "EPOCH: 13 LR: 0.016893456779224002 \n"
          ]
        },
        {
          "output_type": "stream",
          "name": "stderr",
          "text": [
            "Loss=1.343371033668518 Batch_id=448 le=0.015954837987313175 Accuracy=46.65: 100%|██████████| 449/449 [01:14<00:00,  6.01it/s]\n"
          ]
        },
        {
          "output_type": "stream",
          "name": "stdout",
          "text": [
            "\n",
            "Test set: Average loss: 0.0153, Accuracy: 2298/3589 (64.03%)\n",
            "\n",
            "EPOCH: 14 LR: 0.015954837987313175 \n"
          ]
        },
        {
          "output_type": "stream",
          "name": "stderr",
          "text": [
            "Loss=1.591343641281128 Batch_id=448 le=0.014926654393387674 Accuracy=47.06: 100%|██████████| 449/449 [01:14<00:00,  6.02it/s]\n"
          ]
        },
        {
          "output_type": "stream",
          "name": "stdout",
          "text": [
            "\n",
            "Test set: Average loss: 0.0155, Accuracy: 2275/3589 (63.39%)\n",
            "\n",
            "EPOCH: 15 LR: 0.014926654393387674 \n"
          ]
        },
        {
          "output_type": "stream",
          "name": "stderr",
          "text": [
            "Loss=1.3312004804611206 Batch_id=448 le=0.013824370835736084 Accuracy=47.95: 100%|██████████| 449/449 [01:14<00:00,  6.03it/s]\n"
          ]
        },
        {
          "output_type": "stream",
          "name": "stdout",
          "text": [
            "\n",
            "Test set: Average loss: 0.0154, Accuracy: 2319/3589 (64.61%)\n",
            "\n",
            "EPOCH: 16 LR: 0.013824370835736084 \n"
          ]
        },
        {
          "output_type": "stream",
          "name": "stderr",
          "text": [
            "Loss=1.4828685522079468 Batch_id=448 le=0.012664566685073859 Accuracy=48.02: 100%|██████████| 449/449 [01:14<00:00,  6.04it/s]\n"
          ]
        },
        {
          "output_type": "stream",
          "name": "stdout",
          "text": [
            "\n",
            "Test set: Average loss: 0.0155, Accuracy: 2339/3589 (65.17%)\n",
            "\n",
            "EPOCH: 17 LR: 0.012664566685073859 \n"
          ]
        },
        {
          "output_type": "stream",
          "name": "stderr",
          "text": [
            "Loss=1.2564183473587036 Batch_id=448 le=0.011464686475375662 Accuracy=48.65: 100%|██████████| 449/449 [01:14<00:00,  6.02it/s]\n"
          ]
        },
        {
          "output_type": "stream",
          "name": "stdout",
          "text": [
            "\n",
            "Test set: Average loss: 0.0160, Accuracy: 2257/3589 (62.89%)\n",
            "\n",
            "EPOCH: 18 LR: 0.011464686475375662 \n"
          ]
        },
        {
          "output_type": "stream",
          "name": "stderr",
          "text": [
            "Loss=1.5019505023956299 Batch_id=448 le=0.010242777521846942 Accuracy=50.21: 100%|██████████| 449/449 [01:14<00:00,  6.04it/s]\n"
          ]
        },
        {
          "output_type": "stream",
          "name": "stdout",
          "text": [
            "\n",
            "Test set: Average loss: 0.0158, Accuracy: 2349/3589 (65.45%)\n",
            "\n",
            "EPOCH: 19 LR: 0.010242777521846942 \n"
          ]
        },
        {
          "output_type": "stream",
          "name": "stderr",
          "text": [
            "Loss=1.1385314464569092 Batch_id=448 le=0.009017218472504782 Accuracy=51.12: 100%|██████████| 449/449 [01:14<00:00,  6.02it/s]\n"
          ]
        },
        {
          "output_type": "stream",
          "name": "stdout",
          "text": [
            "\n",
            "Test set: Average loss: 0.0166, Accuracy: 2324/3589 (64.75%)\n",
            "\n",
            "EPOCH: 20 LR: 0.009017218472504782 \n"
          ]
        },
        {
          "output_type": "stream",
          "name": "stderr",
          "text": [
            "Loss=1.3605756759643555 Batch_id=448 le=0.007806442876204813 Accuracy=52.26: 100%|██████████| 449/449 [01:14<00:00,  6.05it/s]\n"
          ]
        },
        {
          "output_type": "stream",
          "name": "stdout",
          "text": [
            "\n",
            "Test set: Average loss: 0.0159, Accuracy: 2351/3589 (65.51%)\n",
            "\n",
            "EPOCH: 21 LR: 0.007806442876204813 \n"
          ]
        },
        {
          "output_type": "stream",
          "name": "stderr",
          "text": [
            "Loss=1.0050987005233765 Batch_id=448 le=0.006628661924908432 Accuracy=53.61: 100%|██████████| 449/449 [01:14<00:00,  6.04it/s]\n"
          ]
        },
        {
          "output_type": "stream",
          "name": "stdout",
          "text": [
            "\n",
            "Test set: Average loss: 0.0163, Accuracy: 2323/3589 (64.73%)\n",
            "\n",
            "EPOCH: 22 LR: 0.006628661924908432 \n"
          ]
        },
        {
          "output_type": "stream",
          "name": "stderr",
          "text": [
            "Loss=1.1715754270553589 Batch_id=448 le=0.005501590540404688 Accuracy=54.19: 100%|██████████| 449/449 [01:14<00:00,  6.05it/s]\n"
          ]
        },
        {
          "output_type": "stream",
          "name": "stdout",
          "text": [
            "\n",
            "Test set: Average loss: 0.0162, Accuracy: 2368/3589 (65.98%)\n",
            "\n",
            "EPOCH: 23 LR: 0.005501590540404688 \n"
          ]
        },
        {
          "output_type": "stream",
          "name": "stderr",
          "text": [
            "Loss=1.3611602783203125 Batch_id=448 le=0.004442180925397468 Accuracy=55.62: 100%|██████████| 449/449 [01:14<00:00,  6.04it/s]\n"
          ]
        },
        {
          "output_type": "stream",
          "name": "stdout",
          "text": [
            "\n",
            "Test set: Average loss: 0.0165, Accuracy: 2397/3589 (66.79%)\n",
            "\n",
            "EPOCH: 24 LR: 0.004442180925397468 \n"
          ]
        },
        {
          "output_type": "stream",
          "name": "stderr",
          "text": [
            "Loss=0.9636533856391907 Batch_id=448 le=0.003466367586597686 Accuracy=57.63: 100%|██████████| 449/449 [01:14<00:00,  6.04it/s]\n"
          ]
        },
        {
          "output_type": "stream",
          "name": "stdout",
          "text": [
            "\n",
            "Test set: Average loss: 0.0167, Accuracy: 2413/3589 (67.23%)\n",
            "\n",
            "EPOCH: 25 LR: 0.003466367586597686 \n"
          ]
        },
        {
          "output_type": "stream",
          "name": "stderr",
          "text": [
            "Loss=1.2642817497253418 Batch_id=448 le=0.0025888276649104597 Accuracy=58.94: 100%|██████████| 449/449 [01:14<00:00,  6.04it/s]\n"
          ]
        },
        {
          "output_type": "stream",
          "name": "stdout",
          "text": [
            "\n",
            "Test set: Average loss: 0.0167, Accuracy: 2398/3589 (66.82%)\n",
            "\n",
            "EPOCH: 26 LR: 0.0025888276649104597 \n"
          ]
        },
        {
          "output_type": "stream",
          "name": "stderr",
          "text": [
            "Loss=0.9534886479377747 Batch_id=448 le=0.0018227601775743923 Accuracy=59.65: 100%|██████████| 449/449 [01:14<00:00,  6.04it/s]\n"
          ]
        },
        {
          "output_type": "stream",
          "name": "stdout",
          "text": [
            "\n",
            "Test set: Average loss: 0.0170, Accuracy: 2407/3589 (67.07%)\n",
            "\n",
            "EPOCH: 27 LR: 0.0018227601775743923 \n"
          ]
        },
        {
          "output_type": "stream",
          "name": "stderr",
          "text": [
            "Loss=1.312956690788269 Batch_id=448 le=0.0011796874926566104 Accuracy=61.10: 100%|██████████| 449/449 [01:14<00:00,  6.01it/s]\n"
          ]
        },
        {
          "output_type": "stream",
          "name": "stdout",
          "text": [
            "\n",
            "Test set: Average loss: 0.0172, Accuracy: 2447/3589 (68.18%)\n",
            "\n",
            "EPOCH: 28 LR: 0.0011796874926566104 \n"
          ]
        },
        {
          "output_type": "stream",
          "name": "stderr",
          "text": [
            "Loss=0.8478143215179443 Batch_id=448 le=0.0006692820219119917 Accuracy=61.24: 100%|██████████| 449/449 [01:14<00:00,  6.02it/s]\n"
          ]
        },
        {
          "output_type": "stream",
          "name": "stdout",
          "text": [
            "\n",
            "Test set: Average loss: 0.0168, Accuracy: 2467/3589 (68.74%)\n",
            "\n",
            "EPOCH: 29 LR: 0.0006692820219119917 \n"
          ]
        },
        {
          "output_type": "stream",
          "name": "stderr",
          "text": [
            "Loss=0.7746143937110901 Batch_id=448 le=0.0002992207387072647 Accuracy=61.58: 100%|██████████| 449/449 [01:14<00:00,  6.03it/s]\n"
          ]
        },
        {
          "output_type": "stream",
          "name": "stdout",
          "text": [
            "\n",
            "Test set: Average loss: 0.0166, Accuracy: 2454/3589 (68.38%)\n",
            "\n",
            "EPOCH: 30 LR: 0.0002992207387072647 \n"
          ]
        },
        {
          "output_type": "stream",
          "name": "stderr",
          "text": [
            "Loss=0.8084185123443604 Batch_id=448 le=7.506970919582438e-05 Accuracy=62.61: 100%|██████████| 449/449 [01:14<00:00,  6.04it/s]\n"
          ]
        },
        {
          "output_type": "stream",
          "name": "stdout",
          "text": [
            "\n",
            "Test set: Average loss: 0.0167, Accuracy: 2475/3589 (68.96%)\n",
            "\n",
            "EPOCH: 31 LR: 7.506970919582438e-05 \n"
          ]
        },
        {
          "output_type": "stream",
          "name": "stderr",
          "text": [
            "Loss=0.9562544822692871 Batch_id=448 le=2.0037350187915896e-07 Accuracy=62.20: 100%|██████████| 449/449 [01:14<00:00,  6.04it/s]\n"
          ]
        },
        {
          "output_type": "stream",
          "name": "stdout",
          "text": [
            "\n",
            "Test set: Average loss: 0.0170, Accuracy: 2458/3589 (68.49%)\n",
            "\n"
          ]
        },
        {
          "output_type": "display_data",
          "data": {
            "text/plain": [
              "<Figure size 1440x576 with 2 Axes>"
            ],
            "image/png": "[encoded data removed]"
          },
          "metadata": {
            "needs_background": "light"
          }
        }
      ]
    },
    {
      "cell_type": "code",
      "source": [
        "torch.save(model, 'FER2013_MODEL.pth')"
      ],
      "metadata": {
        "id": "lCXtZWWsOI_e"
      },
      "execution_count": 24,
      "outputs": []
    }
  ]
}